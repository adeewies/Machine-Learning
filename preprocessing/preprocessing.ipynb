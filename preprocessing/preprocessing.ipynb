{
 "cells": [
  {
   "cell_type": "code",
   "execution_count": 4,
   "metadata": {},
   "outputs": [],
   "source": [
    "import pandas as pd\n",
    "import numpy as  np\n"
   ]
  },
  {
   "cell_type": "code",
   "execution_count": 99,
   "metadata": {},
   "outputs": [],
   "source": [
    "data = pd.read_csv(\"DataPreprocessingGraded_dataset.csv\")\n",
    "\n",
    "# Replacing ? in the data with NaN\n",
    "data.replace('?', np.nan, inplace=True)"
   ]
  },
  {
   "cell_type": "code",
   "execution_count": 102,
   "metadata": {},
   "outputs": [],
   "source": [
    "y = data[['Target']]"
   ]
  },
  {
   "cell_type": "code",
   "execution_count": null,
   "metadata": {},
   "outputs": [],
   "source": [
    "y"
   ]
  },
  {
   "cell_type": "code",
   "execution_count": 104,
   "metadata": {},
   "outputs": [],
   "source": [
    "data= data.drop(columns=['Target'])"
   ]
  },
  {
   "cell_type": "code",
   "execution_count": 76,
   "metadata": {},
   "outputs": [],
   "source": [
    "from sklearn.impute import SimpleImputer\n",
    "from sklearn.compose import ColumnTransformer\n",
    "from sklearn.pipeline import Pipeline\n"
   ]
  },
  {
   "cell_type": "code",
   "execution_count": 59,
   "metadata": {},
   "outputs": [],
   "source": [
    "\n"
   ]
  },
  {
   "cell_type": "code",
   "execution_count": 77,
   "metadata": {},
   "outputs": [],
   "source": [
    "imputer = SimpleImputer(strategy=\"mean\")\n",
    "preprocessor = ColumnTransformer(\n",
    "    transformers=[\n",
    "        ('mean_imputer', imputer, [0, 1])  # Columns 0 and 1\n",
    "    ],\n",
    "    remainder='passthrough'  # Keep other columns unchanged\n",
    ")\n",
    "\n",
    "# Fit and transform the data\n",
    "transformed_data = preprocessor.fit_transform(data)"
   ]
  },
  {
   "cell_type": "code",
   "execution_count": null,
   "metadata": {},
   "outputs": [],
   "source": []
  },
  {
   "cell_type": "code",
   "execution_count": 78,
   "metadata": {},
   "outputs": [],
   "source": [
    "data = pd.DataFrame(transformed_data, columns = [['V1', 'V2', 'V3', 'V4', 'V5']])"
   ]
  },
  {
   "cell_type": "code",
   "execution_count": 79,
   "metadata": {},
   "outputs": [
    {
     "data": {
      "text/html": [
       "<div>\n",
       "<style scoped>\n",
       "    .dataframe tbody tr th:only-of-type {\n",
       "        vertical-align: middle;\n",
       "    }\n",
       "\n",
       "    .dataframe tbody tr th {\n",
       "        vertical-align: top;\n",
       "    }\n",
       "\n",
       "    .dataframe thead tr th {\n",
       "        text-align: left;\n",
       "    }\n",
       "</style>\n",
       "<table border=\"1\" class=\"dataframe\">\n",
       "  <thead>\n",
       "    <tr>\n",
       "      <th></th>\n",
       "      <th>V1</th>\n",
       "      <th>V2</th>\n",
       "      <th>V3</th>\n",
       "      <th>V4</th>\n",
       "      <th>V5</th>\n",
       "    </tr>\n",
       "  </thead>\n",
       "  <tbody>\n",
       "    <tr>\n",
       "      <th>0</th>\n",
       "      <td>2.0</td>\n",
       "      <td>50.0</td>\n",
       "      <td>12500.0</td>\n",
       "      <td>98.0</td>\n",
       "      <td>NEGATIVE</td>\n",
       "    </tr>\n",
       "    <tr>\n",
       "      <th>1</th>\n",
       "      <td>0.0</td>\n",
       "      <td>13.0</td>\n",
       "      <td>3250.0</td>\n",
       "      <td>28.0</td>\n",
       "      <td>NEGATIVE</td>\n",
       "    </tr>\n",
       "    <tr>\n",
       "      <th>2</th>\n",
       "      <td>9.562584</td>\n",
       "      <td>5.464334</td>\n",
       "      <td>4000.0</td>\n",
       "      <td>35.0</td>\n",
       "      <td>NEGATIVE</td>\n",
       "    </tr>\n",
       "    <tr>\n",
       "      <th>3</th>\n",
       "      <td>9.562584</td>\n",
       "      <td>20.0</td>\n",
       "      <td>5000.0</td>\n",
       "      <td>45.0</td>\n",
       "      <td>NEGATIVE</td>\n",
       "    </tr>\n",
       "    <tr>\n",
       "      <th>4</th>\n",
       "      <td>1.0</td>\n",
       "      <td>24.0</td>\n",
       "      <td>6000.0</td>\n",
       "      <td>77.0</td>\n",
       "      <td>NEGATIVE</td>\n",
       "    </tr>\n",
       "    <tr>\n",
       "      <th>...</th>\n",
       "      <td>...</td>\n",
       "      <td>...</td>\n",
       "      <td>...</td>\n",
       "      <td>...</td>\n",
       "      <td>...</td>\n",
       "    </tr>\n",
       "    <tr>\n",
       "      <th>743</th>\n",
       "      <td>23.0</td>\n",
       "      <td>2.0</td>\n",
       "      <td>500.0</td>\n",
       "      <td>38.0</td>\n",
       "      <td>NEGATIVE</td>\n",
       "    </tr>\n",
       "    <tr>\n",
       "      <th>744</th>\n",
       "      <td>21.0</td>\n",
       "      <td>2.0</td>\n",
       "      <td>500.0</td>\n",
       "      <td>52.0</td>\n",
       "      <td>NEGATIVE</td>\n",
       "    </tr>\n",
       "    <tr>\n",
       "      <th>745</th>\n",
       "      <td>23.0</td>\n",
       "      <td>3.0</td>\n",
       "      <td>750.0</td>\n",
       "      <td>62.0</td>\n",
       "      <td>NEGATIVE</td>\n",
       "    </tr>\n",
       "    <tr>\n",
       "      <th>746</th>\n",
       "      <td>39.0</td>\n",
       "      <td>1.0</td>\n",
       "      <td>250.0</td>\n",
       "      <td>39.0</td>\n",
       "      <td>NEGATIVE</td>\n",
       "    </tr>\n",
       "    <tr>\n",
       "      <th>747</th>\n",
       "      <td>72.0</td>\n",
       "      <td>1.0</td>\n",
       "      <td>250.0</td>\n",
       "      <td>72.0</td>\n",
       "      <td>NEGATIVE</td>\n",
       "    </tr>\n",
       "  </tbody>\n",
       "</table>\n",
       "<p>748 rows × 5 columns</p>\n",
       "</div>"
      ],
      "text/plain": [
       "           V1        V2       V3    V4        V5\n",
       "0         2.0      50.0  12500.0  98.0  NEGATIVE\n",
       "1         0.0      13.0   3250.0  28.0  NEGATIVE\n",
       "2    9.562584  5.464334   4000.0  35.0  NEGATIVE\n",
       "3    9.562584      20.0   5000.0  45.0  NEGATIVE\n",
       "4         1.0      24.0   6000.0  77.0  NEGATIVE\n",
       "..        ...       ...      ...   ...       ...\n",
       "743      23.0       2.0    500.0  38.0  NEGATIVE\n",
       "744      21.0       2.0    500.0  52.0  NEGATIVE\n",
       "745      23.0       3.0    750.0  62.0  NEGATIVE\n",
       "746      39.0       1.0    250.0  39.0  NEGATIVE\n",
       "747      72.0       1.0    250.0  72.0  NEGATIVE\n",
       "\n",
       "[748 rows x 5 columns]"
      ]
     },
     "execution_count": 79,
     "metadata": {},
     "output_type": "execute_result"
    }
   ],
   "source": [
    "data"
   ]
  },
  {
   "cell_type": "code",
   "execution_count": 80,
   "metadata": {},
   "outputs": [],
   "source": [
    "from sklearn.preprocessing import StandardScaler\n",
    "scaler= StandardScaler()\n",
    "\n"
   ]
  },
  {
   "cell_type": "code",
   "execution_count": 81,
   "metadata": {},
   "outputs": [],
   "source": [
    "# Apply StandardScaler to columns 0, 1, 2, and 3\n",
    "preprocessor_1 = ColumnTransformer(\n",
    "    transformers=[\n",
    "        ('scaler', scaler, [0, 1, 2, 3])  # Columns 0, 1, 2, 3\n",
    "    ],\n",
    "    remainder='passthrough'  # Keep other columns unchanged if any exist\n",
    ")\n",
    "\n",
    "# Fit and transform the data\n",
    "scaled_data = preprocessor_1.fit_transform(data)\n",
    "\n",
    "# Convert the result to a DataFrame (optional, for better readability)\n",
    "data = pd.DataFrame(scaled_data, columns=['V1', 'V2', 'V3', 'V4', 'V5'])"
   ]
  },
  {
   "cell_type": "code",
   "execution_count": 82,
   "metadata": {},
   "outputs": [
    {
     "data": {
      "text/html": [
       "<div>\n",
       "<style scoped>\n",
       "    .dataframe tbody tr th:only-of-type {\n",
       "        vertical-align: middle;\n",
       "    }\n",
       "\n",
       "    .dataframe tbody tr th {\n",
       "        vertical-align: top;\n",
       "    }\n",
       "\n",
       "    .dataframe thead th {\n",
       "        text-align: right;\n",
       "    }\n",
       "</style>\n",
       "<table border=\"1\" class=\"dataframe\">\n",
       "  <thead>\n",
       "    <tr style=\"text-align: right;\">\n",
       "      <th></th>\n",
       "      <th>V1</th>\n",
       "      <th>V2</th>\n",
       "      <th>V3</th>\n",
       "      <th>V4</th>\n",
       "      <th>V5</th>\n",
       "    </tr>\n",
       "  </thead>\n",
       "  <tbody>\n",
       "    <tr>\n",
       "      <th>0</th>\n",
       "      <td>-0.938169</td>\n",
       "      <td>7.709867</td>\n",
       "      <td>7.623346</td>\n",
       "      <td>2.615633</td>\n",
       "      <td>NEGATIVE</td>\n",
       "    </tr>\n",
       "    <tr>\n",
       "      <th>1</th>\n",
       "      <td>-1.186278</td>\n",
       "      <td>1.304549</td>\n",
       "      <td>1.282738</td>\n",
       "      <td>-0.257881</td>\n",
       "      <td>NEGATIVE</td>\n",
       "    </tr>\n",
       "    <tr>\n",
       "      <th>2</th>\n",
       "      <td>0.0</td>\n",
       "      <td>-0.0</td>\n",
       "      <td>1.796842</td>\n",
       "      <td>0.029471</td>\n",
       "      <td>NEGATIVE</td>\n",
       "    </tr>\n",
       "    <tr>\n",
       "      <th>3</th>\n",
       "      <td>0.0</td>\n",
       "      <td>2.516366</td>\n",
       "      <td>2.482313</td>\n",
       "      <td>0.439973</td>\n",
       "      <td>NEGATIVE</td>\n",
       "    </tr>\n",
       "    <tr>\n",
       "      <th>4</th>\n",
       "      <td>-1.062223</td>\n",
       "      <td>3.208833</td>\n",
       "      <td>3.167784</td>\n",
       "      <td>1.753579</td>\n",
       "      <td>NEGATIVE</td>\n",
       "    </tr>\n",
       "    <tr>\n",
       "      <th>...</th>\n",
       "      <td>...</td>\n",
       "      <td>...</td>\n",
       "      <td>...</td>\n",
       "      <td>...</td>\n",
       "      <td>...</td>\n",
       "    </tr>\n",
       "    <tr>\n",
       "      <th>743</th>\n",
       "      <td>1.666966</td>\n",
       "      <td>-0.599734</td>\n",
       "      <td>-0.602307</td>\n",
       "      <td>0.152621</td>\n",
       "      <td>NEGATIVE</td>\n",
       "    </tr>\n",
       "    <tr>\n",
       "      <th>744</th>\n",
       "      <td>1.418858</td>\n",
       "      <td>-0.599734</td>\n",
       "      <td>-0.602307</td>\n",
       "      <td>0.727324</td>\n",
       "      <td>NEGATIVE</td>\n",
       "    </tr>\n",
       "    <tr>\n",
       "      <th>745</th>\n",
       "      <td>1.666966</td>\n",
       "      <td>-0.426617</td>\n",
       "      <td>-0.43094</td>\n",
       "      <td>1.137826</td>\n",
       "      <td>NEGATIVE</td>\n",
       "    </tr>\n",
       "    <tr>\n",
       "      <th>746</th>\n",
       "      <td>3.651831</td>\n",
       "      <td>-0.772851</td>\n",
       "      <td>-0.773675</td>\n",
       "      <td>0.193671</td>\n",
       "      <td>NEGATIVE</td>\n",
       "    </tr>\n",
       "    <tr>\n",
       "      <th>747</th>\n",
       "      <td>7.745616</td>\n",
       "      <td>-0.772851</td>\n",
       "      <td>-0.773675</td>\n",
       "      <td>1.548328</td>\n",
       "      <td>NEGATIVE</td>\n",
       "    </tr>\n",
       "  </tbody>\n",
       "</table>\n",
       "<p>748 rows × 5 columns</p>\n",
       "</div>"
      ],
      "text/plain": [
       "           V1        V2        V3        V4        V5\n",
       "0   -0.938169  7.709867  7.623346  2.615633  NEGATIVE\n",
       "1   -1.186278  1.304549  1.282738 -0.257881  NEGATIVE\n",
       "2         0.0      -0.0  1.796842  0.029471  NEGATIVE\n",
       "3         0.0  2.516366  2.482313  0.439973  NEGATIVE\n",
       "4   -1.062223  3.208833  3.167784  1.753579  NEGATIVE\n",
       "..        ...       ...       ...       ...       ...\n",
       "743  1.666966 -0.599734 -0.602307  0.152621  NEGATIVE\n",
       "744  1.418858 -0.599734 -0.602307  0.727324  NEGATIVE\n",
       "745  1.666966 -0.426617  -0.43094  1.137826  NEGATIVE\n",
       "746  3.651831 -0.772851 -0.773675  0.193671  NEGATIVE\n",
       "747  7.745616 -0.772851 -0.773675  1.548328  NEGATIVE\n",
       "\n",
       "[748 rows x 5 columns]"
      ]
     },
     "execution_count": 82,
     "metadata": {},
     "output_type": "execute_result"
    }
   ],
   "source": [
    "data"
   ]
  },
  {
   "cell_type": "code",
   "execution_count": 83,
   "metadata": {},
   "outputs": [],
   "source": [
    "from sklearn.preprocessing import OrdinalEncoder\n",
    "# Define the OrdinalEncoder for column 4\n",
    "ordinal_encoder = OrdinalEncoder()\n",
    "\n",
    "# Apply OrdinalEncoder to column 4\n",
    "preprocessor_2 = ColumnTransformer(\n",
    "    transformers=[\n",
    "        ('ordinal_encoder', ordinal_encoder, [4])  # Column 4\n",
    "    ],\n",
    "    remainder='passthrough'  # Keep other columns unchanged\n",
    ")\n",
    "\n",
    "# Fit and transform the data\n",
    "encoded_data = preprocessor_2.fit_transform(data)"
   ]
  },
  {
   "cell_type": "code",
   "execution_count": 85,
   "metadata": {},
   "outputs": [],
   "source": [
    "data = pd.DataFrame(encoded_data, columns=['V1', 'V2', 'V3', 'V4', 'V5'])\n"
   ]
  },
  {
   "cell_type": "code",
   "execution_count": 86,
   "metadata": {},
   "outputs": [
    {
     "data": {
      "text/plain": [
       "array([[0.0, -0.9381693902487627, 7.709866528281595, 7.62334626135984,\n",
       "        2.6156334449690104],\n",
       "       [0.0, -1.186277543640765, 1.3045494920474057, 1.2827382634817053,\n",
       "        -0.257880899643511],\n",
       "       [0.0, 0.0, -1.53758496295156e-16, 1.7968416146610138,\n",
       "        0.02947053481774113],\n",
       "       ...,\n",
       "       [0.0, 1.6669662203672622, -0.42661727450237547,\n",
       "        -0.4309395737826555, 1.1378260677397136],\n",
       "       [0.0, 3.6518314475032807, -0.7728506278123317,\n",
       "        -0.7736751412355277, 0.1936713545098852],\n",
       "       [0.0, 7.74561597847132, -0.7728506278123317, -0.7736751412355277,\n",
       "        1.5483281169700738]], dtype=object)"
      ]
     },
     "execution_count": 86,
     "metadata": {},
     "output_type": "execute_result"
    }
   ],
   "source": [
    "encoded_data"
   ]
  },
  {
   "cell_type": "code",
   "execution_count": 87,
   "metadata": {},
   "outputs": [
    {
     "data": {
      "text/html": [
       "<div>\n",
       "<style scoped>\n",
       "    .dataframe tbody tr th:only-of-type {\n",
       "        vertical-align: middle;\n",
       "    }\n",
       "\n",
       "    .dataframe tbody tr th {\n",
       "        vertical-align: top;\n",
       "    }\n",
       "\n",
       "    .dataframe thead th {\n",
       "        text-align: right;\n",
       "    }\n",
       "</style>\n",
       "<table border=\"1\" class=\"dataframe\">\n",
       "  <thead>\n",
       "    <tr style=\"text-align: right;\">\n",
       "      <th></th>\n",
       "      <th>V1</th>\n",
       "      <th>V2</th>\n",
       "      <th>V3</th>\n",
       "      <th>V4</th>\n",
       "      <th>V5</th>\n",
       "    </tr>\n",
       "  </thead>\n",
       "  <tbody>\n",
       "    <tr>\n",
       "      <th>0</th>\n",
       "      <td>0.0</td>\n",
       "      <td>-0.938169</td>\n",
       "      <td>7.709867</td>\n",
       "      <td>7.623346</td>\n",
       "      <td>2.615633</td>\n",
       "    </tr>\n",
       "    <tr>\n",
       "      <th>1</th>\n",
       "      <td>0.0</td>\n",
       "      <td>-1.186278</td>\n",
       "      <td>1.304549</td>\n",
       "      <td>1.282738</td>\n",
       "      <td>-0.257881</td>\n",
       "    </tr>\n",
       "    <tr>\n",
       "      <th>2</th>\n",
       "      <td>0.0</td>\n",
       "      <td>0.0</td>\n",
       "      <td>-0.0</td>\n",
       "      <td>1.796842</td>\n",
       "      <td>0.029471</td>\n",
       "    </tr>\n",
       "    <tr>\n",
       "      <th>3</th>\n",
       "      <td>0.0</td>\n",
       "      <td>0.0</td>\n",
       "      <td>2.516366</td>\n",
       "      <td>2.482313</td>\n",
       "      <td>0.439973</td>\n",
       "    </tr>\n",
       "    <tr>\n",
       "      <th>4</th>\n",
       "      <td>0.0</td>\n",
       "      <td>-1.062223</td>\n",
       "      <td>3.208833</td>\n",
       "      <td>3.167784</td>\n",
       "      <td>1.753579</td>\n",
       "    </tr>\n",
       "  </tbody>\n",
       "</table>\n",
       "</div>"
      ],
      "text/plain": [
       "    V1        V2        V3        V4        V5\n",
       "0  0.0 -0.938169  7.709867  7.623346  2.615633\n",
       "1  0.0 -1.186278  1.304549  1.282738 -0.257881\n",
       "2  0.0       0.0      -0.0  1.796842  0.029471\n",
       "3  0.0       0.0  2.516366  2.482313  0.439973\n",
       "4  0.0 -1.062223  3.208833  3.167784  1.753579"
      ]
     },
     "execution_count": 87,
     "metadata": {},
     "output_type": "execute_result"
    }
   ],
   "source": [
    "data.head()"
   ]
  },
  {
   "cell_type": "code",
   "execution_count": 54,
   "metadata": {},
   "outputs": [],
   "source": [
    "# Feature Union\n",
    "\n",
    "import numpy as np\n",
    "import pandas as pd\n",
    "from sklearn.preprocessing import StandardScaler, OrdinalEncoder\n",
    "from sklearn.impute import SimpleImputer\n",
    "from sklearn.pipeline import Pipeline, FeatureUnion\n",
    "from sklearn.compose import ColumnTransformer"
   ]
  },
  {
   "cell_type": "code",
   "execution_count": 105,
   "metadata": {},
   "outputs": [],
   "source": [
    "# Imputer for missing values (for numerical columns)\n",
    "imputer = SimpleImputer(strategy='mean')\n",
    "\n",
    "# StandardScaler for numerical columns (0, 1, 2, 3)\n",
    "scaler = StandardScaler()\n",
    "\n",
    "# OrdinalEncoder for categorical column (4)\n",
    "ordinal_encoder = OrdinalEncoder()\n",
    "\n",
    "# Pipeline for numerical features (columns 0, 1, 2, 3)\n",
    "numerical_pipeline = Pipeline(steps=[\n",
    "    ('imputer', imputer),  # First impute missing values\n",
    "    ('scaler', scaler)     # Then scale the numerical features\n",
    "])\n",
    "\n",
    "# Pipeline for categorical features (column 4)\n",
    "categorical_pipeline = Pipeline(steps=[\n",
    "    ('ordinal_encoder', ordinal_encoder)  # Ordinal encoding for the categorical feature\n",
    "])\n",
    "\n",
    "# Use FeatureUnion to combine numerical and categorical pipelines\n",
    "preprocessor = ColumnTransformer(transformers=[\n",
    "    ('num', numerical_pipeline, [0, 1, 2, 3]),  # Apply numerical pipeline to columns 0, 1, 2, 3\n",
    "    ('cat', categorical_pipeline, [4])          # Apply categorical pipeline to column 4\n",
    "])\n",
    "\n",
    "# Apply the preprocessor to the data\n",
    "transformed_data = preprocessor.fit_transform(data)\n",
    "\n",
    "# Convert the result to a DataFrame (optional, for better readability)"
   ]
  },
  {
   "cell_type": "code",
   "execution_count": 106,
   "metadata": {},
   "outputs": [],
   "source": [
    "data = pd.DataFrame(transformed_data, columns=['V1', 'V2', 'V3', 'V4', 'V5'])"
   ]
  },
  {
   "cell_type": "code",
   "execution_count": 107,
   "metadata": {},
   "outputs": [
    {
     "data": {
      "text/html": [
       "<div>\n",
       "<style scoped>\n",
       "    .dataframe tbody tr th:only-of-type {\n",
       "        vertical-align: middle;\n",
       "    }\n",
       "\n",
       "    .dataframe tbody tr th {\n",
       "        vertical-align: top;\n",
       "    }\n",
       "\n",
       "    .dataframe thead th {\n",
       "        text-align: right;\n",
       "    }\n",
       "</style>\n",
       "<table border=\"1\" class=\"dataframe\">\n",
       "  <thead>\n",
       "    <tr style=\"text-align: right;\">\n",
       "      <th></th>\n",
       "      <th>V1</th>\n",
       "      <th>V2</th>\n",
       "      <th>V3</th>\n",
       "      <th>V4</th>\n",
       "      <th>V5</th>\n",
       "    </tr>\n",
       "  </thead>\n",
       "  <tbody>\n",
       "    <tr>\n",
       "      <th>0</th>\n",
       "      <td>-0.938169</td>\n",
       "      <td>7.709867e+00</td>\n",
       "      <td>7.623346</td>\n",
       "      <td>2.615633</td>\n",
       "      <td>0.0</td>\n",
       "    </tr>\n",
       "    <tr>\n",
       "      <th>1</th>\n",
       "      <td>-1.186278</td>\n",
       "      <td>1.304549e+00</td>\n",
       "      <td>1.282738</td>\n",
       "      <td>-0.257881</td>\n",
       "      <td>0.0</td>\n",
       "    </tr>\n",
       "    <tr>\n",
       "      <th>2</th>\n",
       "      <td>0.000000</td>\n",
       "      <td>-1.537585e-16</td>\n",
       "      <td>1.796842</td>\n",
       "      <td>0.029471</td>\n",
       "      <td>0.0</td>\n",
       "    </tr>\n",
       "    <tr>\n",
       "      <th>3</th>\n",
       "      <td>0.000000</td>\n",
       "      <td>2.516366e+00</td>\n",
       "      <td>2.482313</td>\n",
       "      <td>0.439973</td>\n",
       "      <td>0.0</td>\n",
       "    </tr>\n",
       "    <tr>\n",
       "      <th>4</th>\n",
       "      <td>-1.062223</td>\n",
       "      <td>3.208833e+00</td>\n",
       "      <td>3.167784</td>\n",
       "      <td>1.753579</td>\n",
       "      <td>0.0</td>\n",
       "    </tr>\n",
       "  </tbody>\n",
       "</table>\n",
       "</div>"
      ],
      "text/plain": [
       "         V1            V2        V3        V4   V5\n",
       "0 -0.938169  7.709867e+00  7.623346  2.615633  0.0\n",
       "1 -1.186278  1.304549e+00  1.282738 -0.257881  0.0\n",
       "2  0.000000 -1.537585e-16  1.796842  0.029471  0.0\n",
       "3  0.000000  2.516366e+00  2.482313  0.439973  0.0\n",
       "4 -1.062223  3.208833e+00  3.167784  1.753579  0.0"
      ]
     },
     "execution_count": 107,
     "metadata": {},
     "output_type": "execute_result"
    }
   ],
   "source": [
    "data.head()"
   ]
  },
  {
   "cell_type": "code",
   "execution_count": 108,
   "metadata": {},
   "outputs": [],
   "source": [
    "from sklearn.feature_selection import VarianceThreshold"
   ]
  },
  {
   "cell_type": "code",
   "execution_count": 110,
   "metadata": {},
   "outputs": [],
   "source": [
    "# Apply VarianceThreshold with threshold=0.1\n",
    "selector = VarianceThreshold(threshold=0.1)\n",
    "\n",
    "# Fit and transform the data\n",
    "reduced_data = selector.fit_transform(data)\n",
    "\n",
    "# Get the features that were kept\n",
    "features_kept = selector.get_support(indices=True)\n",
    "\n",
    "# Convert the result to a DataFrame (optional, for better readability)\n",
    "reduced_df = pd.DataFrame(reduced_data, columns=[f\"V{idx+1}\" for idx in features_kept])"
   ]
  },
  {
   "cell_type": "code",
   "execution_count": 111,
   "metadata": {},
   "outputs": [
    {
     "data": {
      "text/html": [
       "<div>\n",
       "<style scoped>\n",
       "    .dataframe tbody tr th:only-of-type {\n",
       "        vertical-align: middle;\n",
       "    }\n",
       "\n",
       "    .dataframe tbody tr th {\n",
       "        vertical-align: top;\n",
       "    }\n",
       "\n",
       "    .dataframe thead th {\n",
       "        text-align: right;\n",
       "    }\n",
       "</style>\n",
       "<table border=\"1\" class=\"dataframe\">\n",
       "  <thead>\n",
       "    <tr style=\"text-align: right;\">\n",
       "      <th></th>\n",
       "      <th>V1</th>\n",
       "      <th>V2</th>\n",
       "      <th>V3</th>\n",
       "      <th>V4</th>\n",
       "    </tr>\n",
       "  </thead>\n",
       "  <tbody>\n",
       "    <tr>\n",
       "      <th>0</th>\n",
       "      <td>-0.938169</td>\n",
       "      <td>7.709867e+00</td>\n",
       "      <td>7.623346</td>\n",
       "      <td>2.615633</td>\n",
       "    </tr>\n",
       "    <tr>\n",
       "      <th>1</th>\n",
       "      <td>-1.186278</td>\n",
       "      <td>1.304549e+00</td>\n",
       "      <td>1.282738</td>\n",
       "      <td>-0.257881</td>\n",
       "    </tr>\n",
       "    <tr>\n",
       "      <th>2</th>\n",
       "      <td>0.000000</td>\n",
       "      <td>-1.537585e-16</td>\n",
       "      <td>1.796842</td>\n",
       "      <td>0.029471</td>\n",
       "    </tr>\n",
       "    <tr>\n",
       "      <th>3</th>\n",
       "      <td>0.000000</td>\n",
       "      <td>2.516366e+00</td>\n",
       "      <td>2.482313</td>\n",
       "      <td>0.439973</td>\n",
       "    </tr>\n",
       "    <tr>\n",
       "      <th>4</th>\n",
       "      <td>-1.062223</td>\n",
       "      <td>3.208833e+00</td>\n",
       "      <td>3.167784</td>\n",
       "      <td>1.753579</td>\n",
       "    </tr>\n",
       "  </tbody>\n",
       "</table>\n",
       "</div>"
      ],
      "text/plain": [
       "         V1            V2        V3        V4\n",
       "0 -0.938169  7.709867e+00  7.623346  2.615633\n",
       "1 -1.186278  1.304549e+00  1.282738 -0.257881\n",
       "2  0.000000 -1.537585e-16  1.796842  0.029471\n",
       "3  0.000000  2.516366e+00  2.482313  0.439973\n",
       "4 -1.062223  3.208833e+00  3.167784  1.753579"
      ]
     },
     "execution_count": 111,
     "metadata": {},
     "output_type": "execute_result"
    }
   ],
   "source": [
    "reduced_df.head()"
   ]
  },
  {
   "cell_type": "code",
   "execution_count": 117,
   "metadata": {},
   "outputs": [],
   "source": [
    "X= data"
   ]
  },
  {
   "cell_type": "code",
   "execution_count": 114,
   "metadata": {},
   "outputs": [],
   "source": [
    "import numpy as np\n",
    "import pandas as pd\n",
    "from sklearn.preprocessing import OrdinalEncoder\n",
    "from sklearn.linear_model import LogisticRegression\n",
    "from sklearn.feature_selection import RFE"
   ]
  },
  {
   "cell_type": "code",
   "execution_count": 115,
   "metadata": {},
   "outputs": [],
   "source": [
    "encoder = OrdinalEncoder()\n",
    "y_encoded = encoder.fit_transform(y)"
   ]
  },
  {
   "cell_type": "code",
   "execution_count": 118,
   "metadata": {},
   "outputs": [
    {
     "name": "stdout",
     "output_type": "stream",
     "text": [
      "Selected Features: Index(['V1', 'V3'], dtype='object')\n",
      "Feature Ranking: [1 3 1 2 4]\n"
     ]
    }
   ],
   "source": [
    "# Initialize the LogisticRegression model\n",
    "logreg = LogisticRegression()\n",
    "\n",
    "# Use RFE to select the 2 most important features\n",
    "rfe = RFE(estimator=logreg, n_features_to_select=2)\n",
    "rfe.fit(X, y_encoded.ravel())  # .ravel() converts y to a 1D array\n",
    "\n",
    "# Get the selected feature rankings (1 means selected)\n",
    "selected_features = rfe.support_\n",
    "\n",
    "# Get feature ranking (1 means selected)\n",
    "ranking = rfe.ranking_\n",
    "\n",
    "# Show results\n",
    "print(f\"Selected Features: {X.columns[selected_features]}\")\n",
    "print(f\"Feature Ranking: {ranking}\")"
   ]
  },
  {
   "cell_type": "code",
   "execution_count": 120,
   "metadata": {},
   "outputs": [],
   "source": [
    "from sklearn.feature_selection import SequentialFeatureSelector"
   ]
  },
  {
   "cell_type": "code",
   "execution_count": 124,
   "metadata": {},
   "outputs": [
    {
     "name": "stdout",
     "output_type": "stream",
     "text": [
      "Indices of the two most important features: [2 3]\n"
     ]
    }
   ],
   "source": [
    "# Initialize the LogisticRegression model\n",
    "logreg = LogisticRegression()\n",
    "\n",
    "# Sequential Feature Selection (SFS) with LogisticRegression as the estimator\n",
    "sfs = SequentialFeatureSelector(logreg,\n",
    "                                n_features_to_select=2,   # Number of features to select\n",
    "                                direction='backward',     # Forward selection\n",
    "                                scoring='accuracy',      # Scoring metric (accuracy)\n",
    "                                cv=2)                    # No cross-validation for simplicity\n",
    "\n",
    "# Perform SFS and fit the model\n",
    "sfs.fit(X, y_encoded.ravel())  # .ravel() converts y to a 1D array\n",
    "\n",
    "# Get the indices of the selected features\n",
    "selected_features = sfs.get_support(indices=True)\n",
    "\n",
    "# Print the indices of the two most important features\n",
    "print(f\"Indices of the two most important features: {selected_features}\")"
   ]
  },
  {
   "cell_type": "code",
   "execution_count": 125,
   "metadata": {},
   "outputs": [
    {
     "name": "stdout",
     "output_type": "stream",
     "text": [
      "Indices of the two most important features: [1 2]\n"
     ]
    }
   ],
   "source": [
    "# Initialize the LogisticRegression model\n",
    "logreg = LogisticRegression()\n",
    "\n",
    "# Sequential Feature Selection (SFS) with LogisticRegression as the estimator\n",
    "sfs = SequentialFeatureSelector(logreg,\n",
    "                                n_features_to_select=2,   # Number of features to select\n",
    "                                direction='forward',     # Forward selection\n",
    "                                scoring='accuracy',      # Scoring metric (accuracy)\n",
    "                                cv=2)                    # No cross-validation for simplicity\n",
    "\n",
    "# Perform SFS and fit the model\n",
    "sfs.fit(X, y_encoded.ravel())  # .ravel() converts y to a 1D array\n",
    "\n",
    "# Get the indices of the selected features\n",
    "selected_features = sfs.get_support(indices=True)\n",
    "\n",
    "# Print the indices of the two most important features\n",
    "print(f\"Indices of the two most important features: {selected_features}\")"
   ]
  },
  {
   "cell_type": "code",
   "execution_count": null,
   "metadata": {},
   "outputs": [],
   "source": []
  }
 ],
 "metadata": {
  "kernelspec": {
   "display_name": ".venv",
   "language": "python",
   "name": "python3"
  },
  "language_info": {
   "codemirror_mode": {
    "name": "ipython",
    "version": 3
   },
   "file_extension": ".py",
   "mimetype": "text/x-python",
   "name": "python",
   "nbconvert_exporter": "python",
   "pygments_lexer": "ipython3",
   "version": "3.11.5"
  }
 },
 "nbformat": 4,
 "nbformat_minor": 2
}
